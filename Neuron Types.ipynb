{
 "cells": [
  {
   "cell_type": "markdown",
   "metadata": {},
   "source": [
    "# Types of Neurons for Artificial Neural Nets\n",
    "y is the neuron output\n",
    "\n",
    "x is the input activation\n",
    "\n",
    "w is the input weight\n",
    "\n",
    "b is the neuron bias\n",
    "\n",
    "## Linear\n",
    "Range from -inf to +inf.\n",
    "\n",
    "\\begin{equation*}\n",
    "y = b + \\sum_{i} x_i w_i\n",
    "\\end{equation*}\n",
    "\n",
    "## Binary Threshold\n",
    "Either 0 or 1\n",
    "\n",
    "\\begin{align*}\n",
    "z & = b + \\sum_{i} x_i w_i \\\\\n",
    "y & = \n",
    "\\begin{cases}\n",
    "    1,& \\text{if } z\\geq 1\\\\\n",
    "    0,& \\text{otherwise}\n",
    "\\end{cases}\n",
    "\\end{align*}\n",
    "\n",
    "## Rectified Linear Neurons\n",
    "0 to +inf\n",
    "\n",
    "\\begin{align*}\n",
    "z & = b + \\sum_{i} x_i w_i \\\\\n",
    "y & = \n",
    "\\begin{cases}\n",
    "    z,& \\text{if } z\\geq 1\\\\\n",
    "    0,& \\text{otherwise}\n",
    "\\end{cases}\n",
    "\\end{align*}\n",
    "\n",
    "## Sigmoid Neurons\n",
    "Between 0 and 1\n",
    "\n",
    "\\begin{align*}\n",
    "z & = b + \\sum_{i} x_i w_i \\\\\n",
    "y & = \\frac{1}{1 + e^{-z}}\n",
    "\\end{align*}\n",
    "\n",
    "## Tanh Neurons\n",
    "Between -1 and 1\n",
    "\n",
    "\\begin{align*}\n",
    "z & = b + \\sum_{i} x_i w_i \\\\\n",
    "y & = tanh(z)\n",
    "\\end{align*}\n",
    "\n",
    "## Stochasitic Binary Neurons\n",
    "These are sigmoid neurons that choose to fire or not, using y as a probability for whether it fires.\n"
   ]
  },
  {
   "cell_type": "code",
   "execution_count": null,
   "metadata": {},
   "outputs": [],
   "source": []
  }
 ],
 "metadata": {
  "kernelspec": {
   "display_name": "Python 3",
   "language": "python",
   "name": "python3"
  },
  "language_info": {
   "codemirror_mode": {
    "name": "ipython",
    "version": 3
   },
   "file_extension": ".py",
   "mimetype": "text/x-python",
   "name": "python",
   "nbconvert_exporter": "python",
   "pygments_lexer": "ipython3",
   "version": "3.5.2"
  }
 },
 "nbformat": 4,
 "nbformat_minor": 2
}
